{
 "cells": [
  {
   "cell_type": "markdown",
   "metadata": {},
   "source": [
    "## Testing"
   ]
  },
  {
   "cell_type": "markdown",
   "metadata": {},
   "source": [
    "First thing that is to be done is to import the data and generate splits"
   ]
  },
  {
   "cell_type": "code",
   "execution_count": 734,
   "metadata": {},
   "outputs": [],
   "source": [
    "from sklearn.model_selection import train_test_split\n",
    "\n",
    "# Load dataset\n",
    "import pandas as pd\n",
    "\n",
    "# Data has already been split and cleaned\n",
    "train_df = pd.read_csv('Datasets/train_cleaned.csv')\n",
    "X_train = train_df['body']\n",
    "y_train = train_df['subreddit']\n",
    "y_train = y_train.map({'Toronto': 0, 'London': 1, 'Paris': 2, 'Montreal': 3})\n",
    "\n",
    "test_df = pd.read_csv('Datasets/test_w_labels_cleaned.csv')\n",
    "X_test = test_df['body']\n",
    "y_test = test_df['subreddit']\n",
    "y_test = y_test.map({'Toronto': 0, 'London': 1, 'Paris': 2, 'Montreal': 3})"
   ]
  },
  {
   "cell_type": "code",
   "execution_count": 735,
   "metadata": {},
   "outputs": [],
   "source": [
    "# Print a nice confusion matrix between y_pred and y_test\n",
    "from sklearn.metrics import confusion_matrix\n",
    "import matplotlib.pyplot as plt\n",
    "import seaborn as sns\n",
    "\n",
    "# Create function to plot a confusion matrix\n",
    "def plot_conf_mat(conf_mat):\n",
    "    \"\"\"\n",
    "    Plots a confusion matrix using Seaborn's heatmap().\n",
    "    \"\"\"\n",
    "    fig, ax = plt.subplots(figsize=(6, 4))\n",
    "    ax = sns.heatmap(conf_mat,\n",
    "                     annot=True,  # Annotate the boxes\n",
    "                     cbar=False,\n",
    "                     fmt='g',\n",
    "                     cmap='Blues')\n",
    "    plt.xlabel('Predicted label')\n",
    "    plt.ylabel('True label')\n",
    "    plt.show()"
   ]
  },
  {
   "cell_type": "markdown",
   "metadata": {},
   "source": [
    "Naive Bayes Classifier"
   ]
  },
  {
   "cell_type": "code",
   "execution_count": 736,
   "metadata": {},
   "outputs": [
    {
     "name": "stdout",
     "output_type": "stream",
     "text": [
      "Fitting 5 folds for each of 36 candidates, totalling 180 fits\n"
     ]
    },
    {
     "name": "stdout",
     "output_type": "stream",
     "text": [
      "Best Accuracy:  0.7235894773277951\n",
      "Test Accuracy:  0.6333333333333333\n",
      "Class Distribution\n",
      "1    0.344444\n",
      "2    0.305556\n",
      "0    0.238889\n",
      "3    0.111111\n",
      "Name: proportion, dtype: float64\n"
     ]
    },
    {
     "data": {
      "image/png": "[encoded data removed]",
      "text/plain": [
       "<Figure size 600x400 with 1 Axes>"
      ]
     },
     "metadata": {},
     "output_type": "display_data"
    }
   ],
   "source": [
    "# Perform a thorough grid search with CountVectorizer and Naive Bayes\n",
    "from sklearn.model_selection import GridSearchCV\n",
    "from sklearn.naive_bayes import MultinomialNB\n",
    "from sklearn.feature_extraction.text import CountVectorizer, TfidfVectorizer\n",
    "from sklearn.pipeline import Pipeline\n",
    "\n",
    "# Define the pipeline with CountVectorizer and Multinomial Naive Bayes\n",
    "pipeline = Pipeline([\n",
    "    ('vectorizer', TfidfVectorizer()),\n",
    "    ('classifier', MultinomialNB())\n",
    "])\n",
    "\n",
    "# Define the hyperparameters to search\n",
    "parameters = {\n",
    "    'vectorizer__max_features': [3000, 5000],  \n",
    "    'vectorizer__ngram_range': [(1, 1), (1, 2), (1, 3)],  # Consider different n-gram ranges\n",
    "    'classifier__alpha': [0.01, 0.5, 1.0],  # Smoothing parameter for Naive Bayes\n",
    "    'classifier__fit_prior': [True, False],  # Whether to learn class prior probabilities\n",
    "}\n",
    "\n",
    "# Initialize GridSearchCV\n",
    "grid_search = GridSearchCV(pipeline, parameters, cv=5, scoring='accuracy', verbose=1, n_jobs=-1)\n",
    "\n",
    "# Perform the grid search\n",
    "grid_search.fit(X_train, y_train)\n",
    "\n",
    "# Assign model to a variable\n",
    "best_mnb = grid_search.best_estimator_\n",
    "\n",
    "# Print the best parameters and corresponding accuracy\n",
    "print(\"Best Accuracy: \", grid_search.best_score_)\n",
    "test_accuracy = grid_search.score(X_test, y_test)\n",
    "print(\"Test Accuracy: \", test_accuracy)\n",
    "\n",
    "# Print distribution of y_pred\n",
    "y_pred = grid_search.predict(X_test)\n",
    "\n",
    "print('Class Distribution')\n",
    "print(pd.Series(y_pred).value_counts(normalize=True))\n",
    "\n",
    "conf_mat = confusion_matrix(y_test, y_pred)\n",
    "plot_conf_mat(conf_mat)"
   ]
  },
  {
   "cell_type": "markdown",
   "metadata": {},
   "source": [
    "Logistic Regression Classifier"
   ]
  },
  {
   "cell_type": "code",
   "execution_count": 737,
   "metadata": {},
   "outputs": [
    {
     "name": "stdout",
     "output_type": "stream",
     "text": [
      "Fitting 5 folds for each of 18 candidates, totalling 90 fits\n"
     ]
    },
    {
     "name": "stdout",
     "output_type": "stream",
     "text": [
      "Best Accuracy:  0.7143648321218414\n",
      "Test Accuracy:  0.6944444444444444\n",
      "Class Distribution\n",
      "1    0.288889\n",
      "2    0.272222\n",
      "0    0.266667\n",
      "3    0.172222\n",
      "Name: proportion, dtype: float64\n"
     ]
    },
    {
     "data": {
      "image/png": "[encoded data removed]",
      "text/plain": [
       "<Figure size 600x400 with 1 Axes>"
      ]
     },
     "metadata": {},
     "output_type": "display_data"
    }
   ],
   "source": [
    "# Perform a thorough grid search with CountVectorizer and Logistic Regression\n",
    "from sklearn.linear_model import LogisticRegression\n",
    "from sklearn.model_selection import GridSearchCV\n",
    "from sklearn.feature_extraction.text import CountVectorizer\n",
    "from sklearn.pipeline import Pipeline\n",
    "\n",
    "# Define the pipeline with CountVectorizer and Logistic Regression\n",
    "pipeline = Pipeline([\n",
    "    ('vectorizer', CountVectorizer()),\n",
    "    ('classifier', LogisticRegression(max_iter=1000))  # Increase max_iter if needed\n",
    "])\n",
    "\n",
    "# Define the hyperparameters to search\n",
    "parameters = {\n",
    "    'vectorizer__max_features': [3000, 5000],  \n",
    "    'vectorizer__ngram_range': [(1, 1), (1, 2), (1, 3)],  # Consider different n-gram ranges\n",
    "    'classifier__C': [0.1, 1.0, 10.0],  # Inverse of regularization strength\n",
    "}\n",
    "\n",
    "# Initialize GridSearchCV\n",
    "grid_search = GridSearchCV(pipeline, parameters, cv=5, scoring='accuracy', verbose=1, n_jobs=-1)\n",
    "\n",
    "# Perform the grid search\n",
    "grid_search.fit(X_train, y_train)  # Assuming X_train and y_train are your training data and labels\n",
    "\n",
    "# Assign model to a variable\n",
    "best_lr = grid_search.best_estimator_\n",
    "\n",
    "# Print the best parameters and corresponding accuracy\n",
    "print(\"Best Accuracy: \", grid_search.best_score_)\n",
    "test_accuracy = grid_search.score(X_test, y_test)\n",
    "print(\"Test Accuracy: \", test_accuracy)\n",
    "\n",
    "# Print distribution of y_pred\n",
    "y_pred = grid_search.predict(X_test)\n",
    "    \n",
    "print('Class Distribution')\n",
    "print(pd.Series(y_pred).value_counts(normalize=True))\n",
    "\n",
    "conf_mat = confusion_matrix(y_test, y_pred)\n",
    "plot_conf_mat(conf_mat)"
   ]
  },
  {
   "cell_type": "markdown",
   "metadata": {},
   "source": [
    "Multi-Layer Perceptron"
   ]
  },
  {
   "cell_type": "code",
   "execution_count": 738,
   "metadata": {},
   "outputs": [
    {
     "data": {
      "text/plain": [
       "'# Train a MLP\\nfrom sklearn.neural_network import MLPClassifier\\nfrom sklearn.feature_extraction.text import CountVectorizer\\nfrom sklearn.pipeline import Pipeline\\nfrom sklearn.model_selection import GridSearchCV\\nfrom sklearn.preprocessing import StandardScaler\\n\\n# Define the pipeline with CountVectorizer and Multilayer Perceptron\\npipeline = Pipeline([\\n    (\\'vectorizer\\', TfidfVectorizer(max_features=3000)),\\n    (\\'classifier\\', MLPClassifier())\\n])\\n\\n# Define the hyperparameters to search\\nparameters = {\\n    \\'vectorizer__ngram_range\\': [(1, 1), (1, 2), (1, 3)],  # Consider different n-gram ranges\\n    \\'classifier__hidden_layer_sizes\\': [(100,), (300, 150), (200, 100), (200, 100, 50), (100, 50, 25)],  # Vary hidden layer sizes\\n    \\'classifier__alpha\\': [0.001],  # L2 regularization strength\\n}\\n\\n# Initialize GridSearchCV\\ngrid_search = GridSearchCV(pipeline, parameters, cv=5, scoring=\\'accuracy\\', verbose=1, n_jobs=-1)\\n\\n# Perform the grid search\\ngrid_search.fit(X_train, y_train)\\n\\n# Assign model to a variable\\nbest_mlp = grid_search.best_estimator_\\n\\n# Print the best parameters and corresponding accuracy\\nprint(\"Best Accuracy: \", grid_search.best_score_)\\ntest_accuracy = grid_search.score(X_test, y_test)\\nprint(\"Test Accuracy: \", test_accuracy)\\n\\n# Print distribution of y_pred\\ny_pred = grid_search.predict(X_test)\\nprint(\\'Class Distribution\\')\\nprint(pd.Series(y_pred).value_counts(normalize=True))\\n\\nconf_mat = confusion_matrix(y_test, y_pred)\\nplot_conf_mat(conf_mat)'"
      ]
     },
     "execution_count": 738,
     "metadata": {},
     "output_type": "execute_result"
    }
   ],
   "source": [
    "'''# Train a MLP\n",
    "from sklearn.neural_network import MLPClassifier\n",
    "from sklearn.feature_extraction.text import CountVectorizer\n",
    "from sklearn.pipeline import Pipeline\n",
    "from sklearn.model_selection import GridSearchCV\n",
    "from sklearn.preprocessing import StandardScaler\n",
    "\n",
    "# Define the pipeline with CountVectorizer and Multilayer Perceptron\n",
    "pipeline = Pipeline([\n",
    "    ('vectorizer', TfidfVectorizer(max_features=3000)),\n",
    "    ('classifier', MLPClassifier())\n",
    "])\n",
    "\n",
    "# Define the hyperparameters to search\n",
    "parameters = {\n",
    "    'vectorizer__ngram_range': [(1, 1), (1, 2), (1, 3)],  # Consider different n-gram ranges\n",
    "    'classifier__hidden_layer_sizes': [(100,), (300, 150), (200, 100), (200, 100, 50), (100, 50, 25)],  # Vary hidden layer sizes\n",
    "    'classifier__alpha': [0.001],  # L2 regularization strength\n",
    "}\n",
    "\n",
    "# Initialize GridSearchCV\n",
    "grid_search = GridSearchCV(pipeline, parameters, cv=5, scoring='accuracy', verbose=1, n_jobs=-1)\n",
    "\n",
    "# Perform the grid search\n",
    "grid_search.fit(X_train, y_train)\n",
    "\n",
    "# Assign model to a variable\n",
    "best_mlp = grid_search.best_estimator_\n",
    "\n",
    "# Print the best parameters and corresponding accuracy\n",
    "print(\"Best Accuracy: \", grid_search.best_score_)\n",
    "test_accuracy = grid_search.score(X_test, y_test)\n",
    "print(\"Test Accuracy: \", test_accuracy)\n",
    "\n",
    "# Print distribution of y_pred\n",
    "y_pred = grid_search.predict(X_test)\n",
    "print('Class Distribution')\n",
    "print(pd.Series(y_pred).value_counts(normalize=True))\n",
    "\n",
    "conf_mat = confusion_matrix(y_test, y_pred)\n",
    "plot_conf_mat(conf_mat)'''"
   ]
  },
  {
   "cell_type": "markdown",
   "metadata": {},
   "source": [
    "SVM"
   ]
  },
  {
   "cell_type": "code",
   "execution_count": 739,
   "metadata": {},
   "outputs": [
    {
     "name": "stdout",
     "output_type": "stream",
     "text": [
      "Fitting 5 folds for each of 162 candidates, totalling 810 fits\n",
      "Best Accuracy:  0.721754932502596\n",
      "Test Accuracy:  0.6222222222222222\n",
      "Class Distribution\n",
      "2    0.294444\n",
      "0    0.272222\n",
      "1    0.250000\n",
      "3    0.183333\n",
      "Name: proportion, dtype: float64\n"
     ]
    },
    {
     "data": {
      "image/png": "[encoded data removed]",
      "text/plain": [
       "<Figure size 600x400 with 1 Axes>"
      ]
     },
     "metadata": {},
     "output_type": "display_data"
    }
   ],
   "source": [
    "from sklearn.model_selection import GridSearchCV\n",
    "from sklearn.svm import SVC\n",
    "from sklearn.feature_extraction.text import CountVectorizer\n",
    "\n",
    "svm_model = SVC()\n",
    "\n",
    "# Define the pipeline\n",
    "pipeline = Pipeline([\n",
    "    ('vectorizer', TfidfVectorizer()),\n",
    "    ('classifier', SVC())\n",
    "])\n",
    "\n",
    "parameters = {\n",
    "    'vectorizer__max_features': [3000, 5000],  \n",
    "    'vectorizer__ngram_range': [(1, 2), (1, 3), (1, 4)],  # Consider different n-gram ranges\n",
    "    'classifier__C': [10, 20, 30],  # Regularization parameter\n",
    "    'classifier__degree': [2, 3, 4],  # Degree of the polynomial kernel\n",
    "    'classifier__class_weight': [{0: 1, 1: 1, 2: 1, 3: 1}, {0: 1, 1: 1, 2: 2, 3: 1}, {0: 1, 1: 1, 2: 10, 3: 1}]\n",
    "}\n",
    "\n",
    "# Initialize GridSearchCV\n",
    "grid_search = GridSearchCV(estimator=pipeline, param_grid=parameters, cv=5, scoring='accuracy', verbose=1, n_jobs=-1)\n",
    "\n",
    "# Perform the grid search\n",
    "grid_search.fit(X_train, y_train)\n",
    "\n",
    "# Assign model to a variable\n",
    "best_svm = grid_search.best_estimator_\n",
    "\n",
    "# Print the best parameters and corresponding accuracy\n",
    "print(\"Best Accuracy: \", grid_search.best_score_)\n",
    "test_accuracy = grid_search.score(X_test, y_test)\n",
    "print(\"Test Accuracy: \", test_accuracy)\n",
    "\n",
    "# Print distribution of y_pred\n",
    "y_pred = grid_search.predict(X_test)\n",
    "print('Class Distribution')\n",
    "print(pd.Series(y_pred).value_counts(normalize=True))\n",
    "\n",
    "conf_mat = confusion_matrix(y_test, y_pred)\n",
    "plot_conf_mat(conf_mat)"
   ]
  },
  {
   "cell_type": "markdown",
   "metadata": {},
   "source": [
    "Bernoulli Naive Bayes Classifier"
   ]
  },
  {
   "cell_type": "code",
   "execution_count": 740,
   "metadata": {},
   "outputs": [
    {
     "name": "stdout",
     "output_type": "stream",
     "text": [
      "Fitting 5 folds for each of 27 candidates, totalling 135 fits\n",
      "Best Accuracy:  0.7013153340256144\n",
      "Test Accuracy:  0.6055555555555555\n",
      "Class Distribution\n",
      "0    0.305556\n",
      "1    0.294444\n",
      "2    0.283333\n",
      "3    0.116667\n",
      "Name: proportion, dtype: float64\n"
     ]
    },
    {
     "data": {
      "image/png": "[encoded data removed]",
      "text/plain": [
       "<Figure size 600x400 with 1 Axes>"
      ]
     },
     "metadata": {},
     "output_type": "display_data"
    }
   ],
   "source": [
    "from sklearn.pipeline import Pipeline\n",
    "from sklearn.feature_extraction.text import CountVectorizer, TfidfVectorizer\n",
    "from sklearn.multiclass import OneVsRestClassifier\n",
    "from sklearn.naive_bayes import BernoulliNB\n",
    "\n",
    "# Define the pipeline\n",
    "pipeline = Pipeline([\n",
    "    ('vectorizer', TfidfVectorizer()),\n",
    "    ('classifier', OneVsRestClassifier(BernoulliNB())) \n",
    "])\n",
    "\n",
    "param_grid = {\n",
    "    'vectorizer__max_features': [1000, 3000, 5000], \n",
    "    'vectorizer__ngram_range': [(1, 1), (1, 2), (1, 3)], \n",
    "    'classifier__estimator__alpha': [0.001, 0.5, 1.0],  \n",
    "}\n",
    "\n",
    "# Create GridSearchCV instance\n",
    "grid_search = GridSearchCV(pipeline, param_grid, cv=5, scoring='accuracy', verbose=1, n_jobs=-1)\n",
    "\n",
    "# Perform the grid search\n",
    "grid_search.fit(X_train, y_train)\n",
    "\n",
    "# Assign model to a variable\n",
    "best_bnb = grid_search.best_estimator_\n",
    "\n",
    "# Print the best parameters and corresponding accuracy\n",
    "print(\"Best Accuracy: \", grid_search.best_score_)\n",
    "test_accuracy = grid_search.score(X_test, y_test)\n",
    "print(\"Test Accuracy: \", test_accuracy)\n",
    "\n",
    "# Print distribution of y_pred\n",
    "y_pred = grid_search.predict(X_test)\n",
    "print('Class Distribution')\n",
    "print(pd.Series(y_pred).value_counts(normalize=True))\n",
    "\n",
    "conf_mat = confusion_matrix(y_test, y_pred)\n",
    "plot_conf_mat(conf_mat)"
   ]
  },
  {
   "cell_type": "markdown",
   "metadata": {},
   "source": [
    "Random Forest"
   ]
  },
  {
   "cell_type": "code",
   "execution_count": 741,
   "metadata": {},
   "outputs": [
    {
     "name": "stdout",
     "output_type": "stream",
     "text": [
      "Fitting 5 folds for each of 24 candidates, totalling 120 fits\n",
      "Best Accuracy:  0.7124610591900311\n",
      "Test Accuracy:  0.6111111111111112\n",
      "Class Distribution\n",
      "1    0.338889\n",
      "2    0.311111\n",
      "0    0.238889\n",
      "3    0.111111\n",
      "Name: proportion, dtype: float64\n"
     ]
    },
    {
     "data": {
      "image/png": "[encoded data removed]",
      "text/plain": [
       "<Figure size 600x400 with 1 Axes>"
      ]
     },
     "metadata": {},
     "output_type": "display_data"
    }
   ],
   "source": [
    "from sklearn.pipeline import Pipeline\n",
    "from sklearn.feature_extraction.text import CountVectorizer, TfidfVectorizer\n",
    "from sklearn.multiclass import OneVsRestClassifier\n",
    "from sklearn.ensemble import RandomForestClassifier\n",
    "\n",
    "# Define the pipeline\n",
    "pipeline = Pipeline([\n",
    "    ('vectorizer', TfidfVectorizer()),\n",
    "    ('classifier', OneVsRestClassifier(RandomForestClassifier())) \n",
    "])\n",
    "\n",
    "param_grid = {\n",
    "    'vectorizer__max_features': [1000, 3000], \n",
    "    'vectorizer__ngram_range': [(1, 1), (1, 2)], \n",
    "    'classifier__estimator__n_estimators': [50, 100],  \n",
    "    'classifier__estimator__max_depth': [20, 30, 50],\n",
    "}\n",
    "\n",
    "# Create GridSearchCV instance\n",
    "grid_search = GridSearchCV(pipeline, param_grid, cv=5, scoring='accuracy', verbose=1, n_jobs=-1)\n",
    "\n",
    "# Perform the grid search\n",
    "grid_search.fit(X_train, y_train)\n",
    "\n",
    "# Assign model to a variable\n",
    "best_rfc = grid_search.best_estimator_\n",
    "\n",
    "# Print the best parameters and corresponding accuracy\n",
    "print(\"Best Accuracy: \", grid_search.best_score_)\n",
    "test_accuracy = grid_search.score(X_test, y_test)\n",
    "print(\"Test Accuracy: \", test_accuracy)\n",
    "\n",
    "# Print distribution of y_pred\n",
    "y_pred = grid_search.predict(X_test)\n",
    "print('Class Distribution')\n",
    "print(pd.Series(y_pred).value_counts(normalize=True))\n",
    "\n",
    "conf_mat = confusion_matrix(y_test, y_pred)\n",
    "plot_conf_mat(conf_mat)"
   ]
  },
  {
   "cell_type": "markdown",
   "metadata": {},
   "source": [
    "Now we will use the best performing model to predict the Kaggle test set"
   ]
  },
  {
   "cell_type": "code",
   "execution_count": 742,
   "metadata": {},
   "outputs": [],
   "source": [
    "# Load a model\n",
    "best_model = best_lr\n",
    "\n",
    "# Fit the model\n",
    "best_model.fit(X_train, y_train)\n",
    "\n",
    "# Load the Kaggle test set\n",
    "kaggle_test = pd.read_csv('Datasets/Kaggle/test_cleaned.csv')\n",
    "\n",
    "# Make predictions on the Kaggle test set\n",
    "kaggle_test_pred = best_model.predict(kaggle_test['body'])\n",
    "\n",
    "kaggle_test_dict = {\n",
    "    'id': kaggle_test['id'],\n",
    "    'subreddit': kaggle_test_pred\n",
    "}\n",
    "\n",
    "kaggle_test_df = pd.DataFrame(kaggle_test_dict)\n",
    "kaggle_test_df['subreddit'] = kaggle_test_df['subreddit'].map({0: 'Toronto', 1: 'London', 2: 'Paris', 3: 'Montreal'})\n",
    "\n",
    "# Save the predictions to a CSV file\n",
    "kaggle_test_df.to_csv('Datasets/kaggle_test_predictions.csv', index=False)\n",
    "\n",
    "# See distribution of classes in Kaggle test set\n",
    "kaggle_test_df['subreddit'].value_counts(normalize=True)\n",
    "\n",
    "# Make df of kaggle test and predictions\n",
    "kaggle_test_df = pd.DataFrame(kaggle_test)\n",
    "kaggle_test_df['subreddit'] = kaggle_test_pred\n",
    "kaggle_test_df['subreddit'] = kaggle_test_df['subreddit'].map({0: 'Toronto', 1: 'London', 2: 'Paris', 3: 'Montreal'})"
   ]
  }
 ],
 "metadata": {
  "kernelspec": {
   "display_name": "Python 3 (ipykernel)",
   "language": "python",
   "name": "python3"
  },
  "language_info": {
   "codemirror_mode": {
    "name": "ipython",
    "version": 3
   },
   "file_extension": ".py",
   "mimetype": "text/x-python",
   "name": "python",
   "nbconvert_exporter": "python",
   "pygments_lexer": "ipython3",
   "version": "3.11.4"
  }
 },
 "nbformat": 4,
 "nbformat_minor": 4
}
