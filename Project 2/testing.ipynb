{
 "cells": [
  {
   "cell_type": "markdown",
   "metadata": {},
   "source": [
    "## Testing"
   ]
  },
  {
   "cell_type": "markdown",
   "metadata": {},
   "source": [
    "First thing that is to be done is to import the data and generate splits"
   ]
  },
  {
   "cell_type": "code",
   "execution_count": 10,
   "metadata": {},
   "outputs": [],
   "source": [
    "# Load dataset\n",
    "import pandas as pd\n",
    "df = pd.read_csv('Datasets/train_cleaned.csv')\n",
    "\n",
    "# Split dataset into training and testing\n",
    "from sklearn.model_selection import train_test_split\n",
    "X = df['body']\n",
    "y = df['subreddit']\n",
    "y = y.map({'Toronto': 0, 'London': 1, 'Montreal': 2, 'Paris': 3})\n",
    "X_train, X_test, y_train, y_test = train_test_split(X, y, random_state=42)"
   ]
  },
  {
   "cell_type": "markdown",
   "metadata": {},
   "source": [
    "First, we can import the embedding models we previously trained"
   ]
  },
  {
   "cell_type": "code",
   "execution_count": null,
   "metadata": {},
   "outputs": [],
   "source": [
    "import joblib\n",
    "from gensim.models import Word2Vec, FastText\n",
    "\n",
    "count_vec = joblib.load('Embeddings/count_model.joblib')\n",
    "tfidf_vec = joblib.load('Embeddings/tfidf_model.joblib')\n",
    "word_vec = Word2Vec.load('Embeddings/word2vec_model.bin')\n",
    "fast_vec = FastText.load('Embeddings/fasttext_model.bin')"
   ]
  },
  {
   "cell_type": "markdown",
   "metadata": {},
   "source": [
    "A class can be made to align each embedding model so that they can be called in the same manner"
   ]
  },
  {
   "cell_type": "code",
   "execution_count": null,
   "metadata": {},
   "outputs": [],
   "source": [
    "# Make a class to take in a model and have a method to transform the data\n",
    "class EmbeddingTransformer:\n",
    "    def __init__(self, model, transform_method):\n",
    "        self.model = model\n",
    "        self.transform_method = transform_method\n",
    "\n",
    "    def transform(self, X):\n",
    "        return self.transform(X)\n",
    "    \n",
    "embeddings = [\n",
    "    EmbeddingTransformer(count_vec, count_vec.transform),\n",
    "    EmbeddingTransformer(tfidf_vec, tfidf_vec.transform),\n",
    "    EmbeddingTransformer(word_vec, word_vec.wv.get_vector),\n",
    "    EmbeddingTransformer(fast_vec, fast_vec.wv.get_vector)\n",
    "]"
   ]
  },
  {
   "cell_type": "markdown",
   "metadata": {},
   "source": [
    "Next, we can define some pre-made models"
   ]
  },
  {
   "cell_type": "code",
   "execution_count": null,
   "metadata": {},
   "outputs": [],
   "source": [
    "from sklearn.naive_bayes import MultinomialNB\n",
    "from sklearn.ensemble import RandomForestClassifier\n",
    "from sklearn.linear_model import LogisticRegression\n",
    "from sklearn.svm import SVC\n",
    "from sklearn.neighbors import KNeighborsClassifier\n",
    "\n",
    "multi_nb = MultinomialNB()\n",
    "random_forest = RandomForestClassifier()\n",
    "log_reg = LogisticRegression()\n",
    "svc = SVC()\n",
    "knn = KNeighborsClassifier()\n",
    "\n",
    "models = [multi_nb, random_forest, log_reg, svc, knn]"
   ]
  },
  {
   "cell_type": "markdown",
   "metadata": {},
   "source": [
    "Now we can do a cross validation to see the best embedding model and classifier model for this task"
   ]
  },
  {
   "cell_type": "code",
   "execution_count": null,
   "metadata": {},
   "outputs": [],
   "source": [
    "for model in embeddings:\n",
    "    "
   ]
  }
 ],
 "metadata": {
  "kernelspec": {
   "display_name": "venv",
   "language": "python",
   "name": "python3"
  },
  "language_info": {
   "codemirror_mode": {
    "name": "ipython",
    "version": 3
   },
   "file_extension": ".py",
   "mimetype": "text/x-python",
   "name": "python",
   "nbconvert_exporter": "python",
   "pygments_lexer": "ipython3",
   "version": "3.9.13"
  }
 },
 "nbformat": 4,
 "nbformat_minor": 2
}
