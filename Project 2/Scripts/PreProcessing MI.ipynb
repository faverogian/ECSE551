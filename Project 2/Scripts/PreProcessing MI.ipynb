{
 "cells": [
  {
   "cell_type": "markdown",
   "metadata": {},
   "source": [
    "## Pre-Processing the Data"
   ]
  },
  {
   "cell_type": "code",
   "execution_count": 284,
   "metadata": {},
   "outputs": [
    {
     "data": {
      "text/plain": [
       "True"
      ]
     },
     "execution_count": 284,
     "metadata": {},
     "output_type": "execute_result"
    }
   ],
   "source": [
    "import pandas as pd\n",
    "import nltk\n",
    "from nltk.corpus import stopwords\n",
    "\n",
    "# Suppress output of following line and do not output True or False\n",
    "nltk.download('stopwords', quiet=True)\n",
    "nltk.download('wordnet', quiet=True)"
   ]
  },
  {
   "cell_type": "markdown",
   "metadata": {},
   "source": [
    "First we import the training data from the given .csv file."
   ]
  },
  {
   "cell_type": "code",
   "execution_count": 285,
   "metadata": {},
   "outputs": [],
   "source": [
    "# Import the dataset and remove non-utf-8 characters\n",
    "df = pd.read_csv('../Datasets/train_prep.csv', encoding='cp1252')\n",
    "df.columns = ['body', 'subreddit']"
   ]
  },
  {
   "cell_type": "markdown",
   "metadata": {},
   "source": [
    "First we get the term frequency in the dataset"
   ]
  },
  {
   "cell_type": "code",
   "execution_count": 286,
   "metadata": {},
   "outputs": [],
   "source": [
    "classes = df['subreddit'].unique()\n",
    "\n",
    "# Get vocabulary\n",
    "vocabulary = set()\n",
    "for body in df['body']:\n",
    "    for word in body.split():\n",
    "        vocabulary.add(word)\n",
    "\n",
    "def get_term_freq(subreddit):\n",
    "    # Get term frequency for each word in the vocabulary\n",
    "    term_freq = {}\n",
    "    for word in vocabulary:\n",
    "        term_freq[word] = 0\n",
    "\n",
    "    for body in df[df['subreddit'] == subreddit]['body']:\n",
    "        for word in body.split():\n",
    "            term_freq[word] += 1\n",
    "\n",
    "    return term_freq\n",
    "\n",
    "term_freq = {}\n",
    "for subreddit in classes:\n",
    "    term_freq[subreddit] = get_term_freq(subreddit)\n",
    "    \n",
    "# Make a dataframe of the term frequencies\n",
    "term_freq_df = pd.DataFrame.from_dict(term_freq, orient='index')\n",
    "term_freq_df = term_freq_df.transpose()"
   ]
  },
  {
   "cell_type": "markdown",
   "metadata": {},
   "source": [
    "Now let's examine the mutual information score of each word"
   ]
  },
  {
   "cell_type": "code",
   "execution_count": 287,
   "metadata": {},
   "outputs": [],
   "source": [
    "import numpy as np\n",
    "\n",
    "# Convert term_freq_df to a numpy array\n",
    "term_freq_array = term_freq_df.to_numpy()\n",
    "\n",
    "# Calculate the joint probabilities of terms with classes\n",
    "eps = 1e-10\n",
    "class_count = np.array([len(df[df['subreddit'] == subreddit]) for subreddit in classes])\n",
    "\n",
    "P_TC = (term_freq_array + eps) / np.array(class_count).reshape(1, -1)\n",
    "P_T_notC = (np.array(class_count).reshape(1, -1) - term_freq_array + eps) / np.array(class_count).reshape(1, -1)\n",
    "\n",
    "# Calculate the marginal probabilities\n",
    "total_samples = 719\n",
    "P_T = np.sum(term_freq_array, axis=1) / total_samples\n",
    "P_C = class_count / total_samples\n",
    "\n",
    "# Calculate the mutual information\n",
    "MI = np.sum(P_TC * np.log2(P_TC / (P_T[:, np.newaxis] * P_C)), axis=1) + \\\n",
    "     np.sum(P_T_notC * np.log2(P_T_notC / ((1 - P_T[:, np.newaxis]) * P_C)), axis=1)\n",
    "\n",
    "# Create a dataframe of the mutual information\n",
    "MI_df = pd.DataFrame(MI, columns=['MI'])\n",
    "MI_df['word'] = list(vocabulary)\n",
    "MI_df = MI_df.sort_values(by=['MI'], ascending=False)"
   ]
  },
  {
   "cell_type": "code",
   "execution_count": 288,
   "metadata": {},
   "outputs": [
    {
     "name": "stdout",
     "output_type": "stream",
     "text": [
      "subreddit\n",
      "Paris       135\n",
      "Montreal    135\n",
      "London      135\n",
      "Toronto     134\n",
      "Name: count, dtype: int64\n"
     ]
    }
   ],
   "source": [
    "# Only keep the top words\n",
    "MI_df_top = MI_df.head(4750)\n",
    "\n",
    "# Create a list of the top 3000 words based on MI\n",
    "top_words = MI_df_top['word'].tolist()\n",
    "\n",
    "# Save the list to a csv\n",
    "with open('vocab.txt', 'w') as f:\n",
    "    for word in top_words:\n",
    "        f.write(\"%s\\n\" % word)\n",
    "\n",
    "# Create a new dataframe with only the top words\n",
    "top_df = df.copy()\n",
    "top_df['body'] = top_df['body'].apply(lambda x: ' '.join([word for word in x.split() if word in top_words]))\n",
    "\n",
    "# Remove samples with no words\n",
    "top_df = top_df[top_df['body'] != '']\n",
    "\n",
    "# Get distribution of classes\n",
    "class_dist = top_df['subreddit'].value_counts()\n",
    "print(class_dist)\n",
    "\n",
    "# Save the dataframe to a csv file\n",
    "top_df.to_csv('../Datasets/train_cleaned.csv', index=False)"
   ]
  }
 ],
 "metadata": {
  "kernelspec": {
   "display_name": "venv",
   "language": "python",
   "name": "python3"
  },
  "language_info": {
   "codemirror_mode": {
    "name": "ipython",
    "version": 3
   },
   "file_extension": ".py",
   "mimetype": "text/x-python",
   "name": "python",
   "nbconvert_exporter": "python",
   "pygments_lexer": "ipython3",
   "version": "3.11.4"
  }
 },
 "nbformat": 4,
 "nbformat_minor": 2
}
