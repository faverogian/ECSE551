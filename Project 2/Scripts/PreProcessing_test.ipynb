{
 "cells": [
  {
   "cell_type": "markdown",
   "metadata": {},
   "source": [
    "## Pre-Processing the Test Data"
   ]
  },
  {
   "cell_type": "code",
   "execution_count": 247,
   "metadata": {},
   "outputs": [
    {
     "data": {
      "text/plain": [
       "True"
      ]
     },
     "execution_count": 247,
     "metadata": {},
     "output_type": "execute_result"
    }
   ],
   "source": [
    "import pandas as pd\n",
    "import nltk\n",
    "from nltk.corpus import stopwords\n",
    "\n",
    "# Suppress output of following line and do not output True or False\n",
    "nltk.download('stopwords', quiet=True)\n",
    "nltk.download('wordnet', quiet=True)"
   ]
  },
  {
   "cell_type": "markdown",
   "metadata": {},
   "source": [
    "First we import the training data from the given .csv file."
   ]
  },
  {
   "cell_type": "code",
   "execution_count": 248,
   "metadata": {},
   "outputs": [],
   "source": [
    "# Import the dataset and remove non-utf-8 characters\n",
    "switch_set = 0\n",
    "if switch_set == 0:\n",
    "    df = pd.read_csv('../Datasets/test_w_labels.csv', encoding='cp1252')\n",
    "    df.columns = ['body', 'subreddit']\n",
    "else:\n",
    "    df = pd.read_csv('../Datasets/Kaggle/test.csv', encoding='cp1252')\n",
    "    df.columns = ['id', 'body']\n",
    "\n",
    "# Convert all characters to lowercase\n",
    "df['body'] = df['body'].str.lower()"
   ]
  },
  {
   "cell_type": "markdown",
   "metadata": {},
   "source": [
    "Align things like apostrophes that have different representations in different encodings."
   ]
  },
  {
   "cell_type": "code",
   "execution_count": 249,
   "metadata": {},
   "outputs": [],
   "source": [
    "# Align encodings\n",
    "df['body'] = df['body'].str.replace('“', '\"')\n",
    "df['body'] = df['body'].str.replace('”', '\"')\n",
    "df['body'] = df['body'].str.replace('’', \"'\")\n",
    "df['body'] = df['body'].str.replace('‘', \"'\")\n",
    "df['body'] = df['body'].str.replace('—', '-')\n",
    "df['body'] = df['body'].str.replace('–', '-')\n",
    "df['body'] = df['body'].str.replace('\\n', ' ')\n",
    "df['body'] = df['body'].str.replace('/', ' ')\n",
    "df['body'] = df['body'].str.replace('#x200b', ' ')\n",
    "df['body'] = df['body'].str.replace('-', ' ')\n",
    "\n",
    "# Remove basic punctuation\n",
    "translator = str.maketrans('', '', '<>\"°œ!\\()*+,.:;=?[\\\\]^_`{|}~1234567890')\n",
    "df['body'] = df['body'].str.translate(translator)\n",
    "\n",
    "# Replace accented characters with unaccented characters\n",
    "translator = str.maketrans('àáâãäåçèéêëìíîïñòóôõöùúûüýÿ', 'aaaaaaceeeeiiiinooooouuuuyy')\n",
    "df['body'] = df['body'].str.translate(translator)"
   ]
  },
  {
   "cell_type": "markdown",
   "metadata": {},
   "source": [
    "Some preprocessing is helpful prior to tokenization. This includes lemmatization and removing stop-words (a, an, the) in both English and French, since we are dealing with cities like Toronto, Montreal, and Paris."
   ]
  },
  {
   "cell_type": "code",
   "execution_count": 250,
   "metadata": {},
   "outputs": [],
   "source": [
    "# Replace words with their lemmings\n",
    "lemmatizer = nltk.stem.WordNetLemmatizer()\n",
    "def lemmatize_verbs(text):\n",
    "    return [lemmatizer.lemmatize(word, pos='v') for word in text]\n",
    "\n",
    "def lemmatize_nouns(text):\n",
    "    return [lemmatizer.lemmatize(word) for word in text]\n",
    "\n",
    "df['body'] = df['body'].apply(lambda x: lemmatize_nouns(x.split()))\n",
    "df['body'] = df['body'].apply(lambda x: lemmatize_verbs(x))\n",
    "\n",
    "# Reconcatenate the words into a string\n",
    "df['body'] = df['body'].apply(lambda x: ' '.join(x))\n",
    "\n",
    "# Remove stopwords\n",
    "stop_words = set(stopwords.words('english'))\n",
    "df['body'] = df['body'].apply(lambda x: ' '.join([word for word in x.split() if word not in stop_words]))\n",
    "stop_words = set(stopwords.words('french'))\n",
    "df['body'] = df['body'].apply(lambda x: ' '.join([word for word in x.split() if word not in stop_words]))"
   ]
  },
  {
   "cell_type": "markdown",
   "metadata": {},
   "source": [
    "We can transfer the knowledge of common words from the training set to further process the test set."
   ]
  },
  {
   "cell_type": "code",
   "execution_count": 251,
   "metadata": {},
   "outputs": [
    {
     "name": "stdout",
     "output_type": "stream",
     "text": [
      "4050\n"
     ]
    }
   ],
   "source": [
    "# Load vocab.txt into a list\n",
    "with open('vocab.txt', 'r') as file:\n",
    "    vocab = file.read().splitlines()\n",
    "\n",
    "    print(len(vocab))\n",
    "\n",
    "# Remove words not in vocab from df\n",
    "for sample in df['body']:\n",
    "    for word in sample.split():\n",
    "        if word not in vocab:\n",
    "            df['body'] = df['body'].replace(sample, sample.replace(word + ' ', ''))"
   ]
  },
  {
   "cell_type": "markdown",
   "metadata": {},
   "source": [
    "A cleaned test set is saved for future use"
   ]
  },
  {
   "cell_type": "code",
   "execution_count": 252,
   "metadata": {},
   "outputs": [],
   "source": [
    "# Save the dataframe to a csv file\n",
    "if switch_set == 0:\n",
    "    df.to_csv('../Datasets/test_w_labels_cleaned.csv', index=False)\n",
    "else:\n",
    "    df.to_csv('../Datasets/Kaggle/test_cleaned.csv', index=False)"
   ]
  }
 ],
 "metadata": {
  "kernelspec": {
   "display_name": "venv",
   "language": "python",
   "name": "python3"
  },
  "language_info": {
   "codemirror_mode": {
    "name": "ipython",
    "version": 3
   },
   "file_extension": ".py",
   "mimetype": "text/x-python",
   "name": "python",
   "nbconvert_exporter": "python",
   "pygments_lexer": "ipython3",
   "version": "3.11.4"
  }
 },
 "nbformat": 4,
 "nbformat_minor": 2
}
