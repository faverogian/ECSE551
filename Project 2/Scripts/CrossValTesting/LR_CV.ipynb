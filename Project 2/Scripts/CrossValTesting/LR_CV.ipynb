{
 "cells": [
  {
   "cell_type": "markdown",
   "metadata": {},
   "source": [
    "## Testing"
   ]
  },
  {
   "cell_type": "markdown",
   "metadata": {},
   "source": [
    "First thing that is to be done is to import the data and generate splits"
   ]
  },
  {
   "cell_type": "code",
   "execution_count": 4,
   "metadata": {},
   "outputs": [
    {
     "name": "stdout",
     "output_type": "stream",
     "text": [
      "Fitting 5 folds for each of 12 candidates, totalling 60 fits\n",
      "Accuracy: 0.6736111111111112\n",
      "Fitting 5 folds for each of 12 candidates, totalling 60 fits\n",
      "Accuracy: 0.6597222222222222\n",
      "Fitting 5 folds for each of 12 candidates, totalling 60 fits\n",
      "Accuracy: 0.6597222222222222\n",
      "Fitting 5 folds for each of 12 candidates, totalling 60 fits\n",
      "Accuracy: 0.7430555555555556\n",
      "Fitting 5 folds for each of 12 candidates, totalling 60 fits\n",
      "Accuracy: 0.7202797202797203\n",
      "Average accuracy: 0.6912781662781664\n"
     ]
    }
   ],
   "source": [
    "import sys\n",
    "sys.path.append('../')\n",
    "\n",
    "from prep import *\n",
    "from sklearn.model_selection import KFold\n",
    "from sklearn.pipeline import Pipeline\n",
    "from sklearn.feature_extraction.text import TfidfVectorizer, CountVectorizer\n",
    "from sklearn.model_selection import GridSearchCV\n",
    "from sklearn.linear_model import LogisticRegression\n",
    "\n",
    "# Load data\n",
    "df = pd.read_csv('../../Datasets/train.csv', encoding='cp1252')\n",
    "\n",
    "# Do some basic cleaning\n",
    "df = prep_data(df)\n",
    "\n",
    "# Split data using KFold\n",
    "kf = KFold(n_splits=5, shuffle=True, random_state=42)\n",
    "\n",
    "# Define the pipeline with CountVectorizer and Logistic Regression\n",
    "pipeline = Pipeline([\n",
    "    ('vectorizer', CountVectorizer()),\n",
    "    ('classifier', LogisticRegression(max_iter=1000))\n",
    "])\n",
    "\n",
    "# Define the hyperparameters to search\n",
    "parameters = {\n",
    "    'vectorizer__ngram_range': [(1, 1), (1, 2), (1, 3)],  # Consider different n-gram ranges\n",
    "    'classifier__C': [0.01, 0.1, 1.0, 10.0],  # Inverse of regularization strength\n",
    "}\n",
    "# Make list to store accuracies\n",
    "test_acc = []\n",
    "\n",
    "# Iterate through folds\n",
    "for train_index, val_index in kf.split(df):\n",
    "    # Split data\n",
    "    train = df.iloc[train_index]\n",
    "    val = df.iloc[val_index]\n",
    "\n",
    "    # Reduce features based on mutual information\n",
    "    subreddits = ['Toronto', 'London', 'Paris', 'Montreal']\n",
    "    train = remove_common_words(train, subreddits, 300)\n",
    "    train, vocab = mutual_info_transform(train, 3250)\n",
    "\n",
    "    # Remove words not in vocab from val\n",
    "    val['body'] = val['body'].apply(lambda x: ' '.join([word for word in x.split() if word in vocab]))\n",
    "\n",
    "    # Split into X and y\n",
    "    X_train = train['body']\n",
    "    y_train = train['subreddit']\n",
    "    y_train = y_train.map({'Toronto': 0, 'London': 1, 'Paris': 2, 'Montreal': 3})\n",
    "    X_val = val['body']\n",
    "    y_val = val['subreddit']\n",
    "    y_val = y_val.map({'Toronto': 0, 'London': 1, 'Paris': 2, 'Montreal': 3})\n",
    "\n",
    "    # Perform grid search\n",
    "    grid_search = GridSearchCV(pipeline, parameters, cv=5, scoring='accuracy', verbose=1, n_jobs=-1)\n",
    "    grid_search.fit(X_train, y_train)\n",
    "\n",
    "    # Evaluate on validation set\n",
    "    test_acc.append(grid_search.score(X_val, y_val))\n",
    "\n",
    "    # Print accuracy\n",
    "    print(f'Accuracy: {test_acc[-1]}')\n",
    "\n",
    "test_acc = np.mean(test_acc)\n",
    "print(f'Average accuracy: {test_acc}')"
   ]
  }
 ],
 "metadata": {
  "kernelspec": {
   "display_name": "Python 3 (ipykernel)",
   "language": "python",
   "name": "python3"
  },
  "language_info": {
   "codemirror_mode": {
    "name": "ipython",
    "version": 3
   },
   "file_extension": ".py",
   "mimetype": "text/x-python",
   "name": "python",
   "nbconvert_exporter": "python",
   "pygments_lexer": "ipython3",
   "version": "3.11.4"
  }
 },
 "nbformat": 4,
 "nbformat_minor": 4
}
