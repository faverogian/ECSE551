{
  "cells": [
    {
      "cell_type": "markdown",
      "metadata": {
        "id": "_-_oKQHfHZ55"
      },
      "source": [
        "We begin by importing three classes made from scratch: LogisticRegression, KFoldSplitSet, and NestedCV. In addition to these, numpy, pandas, and itertools is also imported.\n",
        "\n"
      ]
    },
    {
      "cell_type": "code",
      "execution_count": 1,
      "metadata": {
        "id": "PyrpvoRhHELa"
      },
      "outputs": [],
      "source": [
        "from LogisticRegression import LogisticRegression\n",
        "from SplitSet import SplitSet\n",
        "from NestedCrossValidation import NestedCV\n",
        "import pandas as pd\n",
        "import numpy as np\n",
        "import itertools"
      ]
    },
    {
      "cell_type": "markdown",
      "metadata": {
        "id": "YtyiiQBeHmdM"
      },
      "source": [
        "First, the mushroom dataset must be processed to appropriately train the logistic classifier. A header row is added and a class vector is constructed from the last column of the dataset."
      ]
    },
    {
      "cell_type": "code",
      "execution_count": 2,
      "metadata": {
        "id": "o3sd2LUVHvVZ"
      },
      "outputs": [],
      "source": [
        "# Load the data\n",
        "mushroom_set = pd.read_csv('Mushroom.csv')\n",
        "mushroom_headers = ['Poisonous', 'Cap-shape', 'Cap-surface', 'Cap-color',\n",
        "                    'Bruises', 'Odor', 'Gill-attachment',  'Gill-spacing',\n",
        "                    'Gill-size', 'Gill-color', 'Stalk-color-below-ring', 'Class']\n",
        "mushroom_set.columns = mushroom_headers\n",
        "\n",
        "# Get the labels from last column\n",
        "X = mushroom_set.iloc[:, :-1]\n",
        "Y = mushroom_set.iloc[:, -1]"
      ]
    },
    {
      "cell_type": "markdown",
      "metadata": {
        "id": "aGgvFcCxIG4b"
      },
      "source": [
        "An automated process was designed to choose candidate models that had the highest accuracy based on a nested cross validation algorithm. A hyperparameter grid was constructed to identify the best learning rate, regularization, and norm penalty."
      ]
    },
    {
      "cell_type": "code",
      "execution_count": 18,
      "metadata": {
        "id": "8w59RZu0IxbL"
      },
      "outputs": [],
      "source": [
        "hyperparameters = {\n",
        "    'lr': [0.0001, 0.001, 0.03],\n",
        "    'reg': ['l1', 'l2'],\n",
        "    'norm_penalty': [0, 0.3, 0.5, 0.8]\n",
        "}\n",
        "hyper_perms = list(itertools.product(*hyperparameters.values()))\n",
        "\n",
        "# Remove l2 with 0 norm penalty since it's the same as l1 with 0 norm penalty (no regularization)\n",
        "hyper_perms = [perm for perm in hyper_perms if [perm[1], perm[2]] != ['l2', 0]]"
      ]
    },
    {
      "cell_type": "markdown",
      "metadata": {
        "id": "cKdRP21GI4Rm"
      },
      "source": [
        "A nested cross validation is performed with 10 outer folds to procure candidate models that perform the best in the grid search validation process."
      ]
    },
    {
      "cell_type": "code",
      "execution_count": 19,
      "metadata": {},
      "outputs": [
        {
          "name": "stdout",
          "output_type": "stream",
          "text": [
            "Top 5 best hyperparameter permutations:\n",
            "1. Accuracy: 73.83%, Hyperparameters: (0.001, 'l1', 0.8)\n",
            "2. Accuracy: 73.95%, Hyperparameters: (0.001, 'l2', 0.5)\n",
            "3. Accuracy: 74.01%, Hyperparameters: (0.001, 'l1', 0)\n",
            "4. Accuracy: 74.26%, Hyperparameters: (0.001, 'l2', 0.3)\n",
            "5. Accuracy: 74.26%, Hyperparameters: (0.001, 'l1', 0.3)\n"
          ]
        }
      ],
      "source": [
        "# Perform k-fold cross validation on each hyperparameter permutation to find the best one\n",
        "nested_cv = NestedCV(outer_folds=10)\n",
        "\n",
        "# Keep track of the top 5 best hyperparameter permutations\n",
        "best_accuracy = 0\n",
        "best_perm = None\n",
        "top_5 = []\n",
        "\n",
        "for perm in hyper_perms:\n",
        "    model = LogisticRegression(perm[0], perm[1], perm[2], early_stopping=True)\n",
        "    accuracy = nested_cv.k_fold_cross_validation(model, X, Y)\n",
        "    \n",
        "    # Update the top 5 best hyperparameter permutations\n",
        "    if len(top_5) < 5:\n",
        "        top_5.append((accuracy, perm))\n",
        "    elif accuracy > top_5[0][0]:\n",
        "        top_5[0] = (accuracy, perm)\n",
        "        top_5.sort(key=lambda x: x[0])\n",
        "\n",
        "    if accuracy > best_accuracy:\n",
        "        best_accuracy = accuracy\n",
        "\n",
        "# Print the top 5 best hyperparameter permutations\n",
        "print(\"Top 5 best hyperparameter permutations:\")\n",
        "top_5.sort(key=lambda x: x[0])\n",
        "for i, perm in enumerate(top_5):\n",
        "    print(\"{}. Accuracy: {:.2f}%, Hyperparameters: {}\".format(i+1, perm[0]*100, perm[1]))\n",
        "\n",
        "# Get the best model\n",
        "best_model = LogisticRegression(top_5[-1][1][0], top_5[-1][1][1], top_5[-1][1][2], early_stopping=True)"
      ]
    },
    {
      "cell_type": "markdown",
      "metadata": {},
      "source": [
        "The best performing models each have a learning rate of 0.001. In the case of this mushroom dataset, it does not appear as though regularization increases the performance of the model very much as no regularization, L1, and L2 all can achieve a similar accuracy."
      ]
    },
    {
      "cell_type": "markdown",
      "metadata": {
        "id": "c-j91WDojYbU"
      },
      "source": [
        "We can now do some analysis with the best model selected. First let's see how it used regularization to place less importance on some features."
      ]
    },
    {
      "cell_type": "code",
      "execution_count": 20,
      "metadata": {
        "id": "bCbJfm6Pj19S"
      },
      "outputs": [
        {
          "name": "stdout",
          "output_type": "stream",
          "text": [
            "                   Feature    Weight\n",
            "0                Intercept -0.277605\n",
            "1                Poisonous  0.678633\n",
            "2                Cap-shape -2.687853\n",
            "3              Cap-surface  0.542023\n",
            "4                Cap-color  0.094531\n",
            "5                  Bruises -0.649781\n",
            "6                     Odor  0.317348\n",
            "7          Gill-attachment -1.785765\n",
            "8             Gill-spacing -1.133813\n",
            "9                Gill-size  0.142082\n",
            "10              Gill-color  1.873331\n",
            "11  Stalk-color-below-ring  4.026373\n"
          ]
        }
      ],
      "source": [
        "# Generate splits\n",
        "splits = SplitSet()\n",
        "X_train, X_test, Y_train, Y_test = splits.split(X, Y, test_size=0.2)\n",
        "x_train, x_val, y_train, y_val = splits.split(X_train, Y_train, test_size=0.2)\n",
        "\n",
        "# Train the best model\n",
        "best_model.fit(x_train, y_train, x_val, y_val)\n",
        "\n",
        "# Check the weights per feature\n",
        "headers = ['Intercept', 'Poisonous', 'Cap-shape', 'Cap-surface', 'Cap-color',\n",
        "                    'Bruises', 'Odor', 'Gill-attachment',  'Gill-spacing',\n",
        "                    'Gill-size', 'Gill-color', 'Stalk-color-below-ring']\n",
        "weights = best_model.w\n",
        "data = {'Feature': headers, 'Weight': weights}\n",
        "weights_df = pd.DataFrame(data)\n",
        "print(weights_df)"
      ]
    },
    {
      "cell_type": "markdown",
      "metadata": {},
      "source": [
        "It appears as though some features are more important than others. For example, the weights on \"Stalk-color-below-ring\", \"Cap-shape\", \"Gill-attachment\", and \"Gill-color\" seem to be of a higher magnitude than the others. \"Gill-size\", \"Cap-color\", and \"Odor\", seem to often be less important than the other features. We can see what happens if we remove these features entirely. "
      ]
    },
    {
      "cell_type": "code",
      "execution_count": 21,
      "metadata": {},
      "outputs": [
        {
          "name": "stdout",
          "output_type": "stream",
          "text": [
            "Accuracy with reduced features:  0.7401234567901235\n",
            "Difference in accuracy:  0.0024691358024691024\n"
          ]
        }
      ],
      "source": [
        "# Test the best model with \"Gill-size\", \"Cap-color\", and \"Odor\" removed from the dataset\n",
        "X_reduced = X.drop(columns=['Gill-size', 'Cap-color', 'Odor'])\n",
        "accuracy_reduced = nested_cv.k_fold_cross_validation(best_model, X_reduced, Y)\n",
        "print(\"Accuracy with reduced features: \", accuracy_reduced)\n",
        "print(\"Difference in accuracy: \", best_accuracy - accuracy_reduced)"
      ]
    },
    {
      "cell_type": "markdown",
      "metadata": {
        "id": "4HflfCCfQmFy"
      },
      "source": [
        "Early stopping is enforced by observing the performance of the model on a validation set during training. If the accuracy of prediction does not increase by more than 0.001 over 250 consecutive iterations, the model stops training. Let's see how this affects performance."
      ]
    },
    {
      "cell_type": "code",
      "execution_count": 22,
      "metadata": {
        "colab": {
          "base_uri": "https://localhost:8080/"
        },
        "id": "WypExtrNQu9f",
        "outputId": "65dcaf8c-e524-478a-eb35-c7e02b40031b"
      },
      "outputs": [
        {
          "name": "stdout",
          "output_type": "stream",
          "text": [
            "Test set accuracy with no stopping (1000 iterations): 0.7716049382716049\n",
            "Time elapsed: 0.4700050354003906\n"
          ]
        },
        {
          "data": {
            "image/png": "[encoded data removed]",
            "text/plain": [
              "<Figure size 640x480 with 1 Axes>"
            ]
          },
          "metadata": {},
          "output_type": "display_data"
        },
        {
          "name": "stdout",
          "output_type": "stream",
          "text": [
            "Test set accuracy with stopping after 300 iterations: 0.7561728395061729\n",
            "Time elapsed: 0.13766694068908691\n"
          ]
        },
        {
          "data": {
            "image/png": "[encoded data removed]",
            "text/plain": [
              "<Figure size 640x480 with 1 Axes>"
            ]
          },
          "metadata": {},
          "output_type": "display_data"
        }
      ],
      "source": [
        "import matplotlib.pyplot as plt\n",
        "import time\n",
        "\n",
        "# Evaluate the best model with no early stopping\n",
        "timer = time.time()\n",
        "best_model.early_stopping = False\n",
        "iterations, accuracies = best_model.fit(x_train, y_train, x_val, y_val)\n",
        "Y_pred = best_model.predict(X_test)\n",
        "accuracy = np.mean(Y_pred == Y_test)\n",
        "print(\"Test set accuracy with no stopping (1000 iterations):\", accuracy)\n",
        "print(\"Time elapsed:\", time.time() - timer)\n",
        "\n",
        "# Make a plot of the accuracy vs iterations\n",
        "plt.plot(iterations, accuracies)\n",
        "plt.xlabel(\"Iterations\")\n",
        "plt.ylabel(\"Accuracy\")\n",
        "plt.title(\"Validation Accuracy with No Early Stopping\")\n",
        "plt.show()\n",
        "\n",
        "# Evaluate model with early stopping\n",
        "timer = time.time()\n",
        "best_model.early_stopping = True\n",
        "iterations, accuracies = best_model.fit(x_train, y_train, x_val, y_val)\n",
        "Y_pred = best_model.predict(X_test)\n",
        "accuracy = np.mean(Y_pred == Y_test)\n",
        "print(f\"Test set accuracy with stopping after {iterations[-1]} iterations:\", accuracy)\n",
        "print(\"Time elapsed:\", time.time() - timer)\n",
        "\n",
        "# Make a plot of the accuracy vs iterations\n",
        "plt.plot(iterations, accuracies)\n",
        "plt.xlabel(\"Iterations\")\n",
        "plt.ylabel(\"Accuracy\")\n",
        "plt.title(\"Validation Accuracy with Early Stopping\")\n",
        "plt.show()"
      ]
    },
    {
      "cell_type": "markdown",
      "metadata": {},
      "source": [
        "Finally, we can compare the best model found against some benchmarks."
      ]
    },
    {
      "cell_type": "code",
      "execution_count": 23,
      "metadata": {},
      "outputs": [
        {
          "name": "stdout",
          "output_type": "stream",
          "text": [
            "Random classifier accuracy: 0.42592592592592593\n",
            "Majority classifier accuracy: 0.5030864197530864\n",
            "Minority classifier accuracy: 0.49691358024691357\n",
            "\n",
            "Models found by nested cross validation:\n",
            "1. Accuracy: 73.83%, Hyperparameters: (0.001, 'l1', 0.8)\n",
            "2. Accuracy: 73.95%, Hyperparameters: (0.001, 'l2', 0.5)\n",
            "3. Accuracy: 74.01%, Hyperparameters: (0.001, 'l1', 0)\n",
            "4. Accuracy: 74.26%, Hyperparameters: (0.001, 'l2', 0.3)\n",
            "5. Accuracy: 74.26%, Hyperparameters: (0.001, 'l1', 0.3)\n"
          ]
        }
      ],
      "source": [
        "# Random classifier that predicts 50/50\n",
        "Y_pred_random = np.random.randint(0, 2, len(Y_test))\n",
        "accuracy = np.mean(Y_pred_random == Y_test)\n",
        "print(\"Random classifier accuracy:\", accuracy)\n",
        "\n",
        "# Majority classifier that predicts all 1's\n",
        "Y_pred_majority = np.ones(len(Y_test))\n",
        "accuracy = np.mean(Y_pred_majority == Y_test)\n",
        "print(\"Majority classifier accuracy:\", accuracy)\n",
        "\n",
        "# Minority classifier that predicts all 0's\n",
        "Y_pred_minority = np.zeros(len(Y_test))\n",
        "accuracy = np.mean(Y_pred_minority == Y_test)\n",
        "print(\"Minority classifier accuracy:\", accuracy)\n",
        "\n",
        "# Print the models found by nested cross validation\n",
        "print(\"\\nModels found by nested cross validation:\")\n",
        "for i, model in enumerate(top_5):\n",
        "    print(\"{}. Accuracy: {:.2f}%, Hyperparameters: {}\".format(i+1, model[0]*100, model[1]))"
      ]
    }
  ],
  "metadata": {
    "colab": {
      "provenance": []
    },
    "kernelspec": {
      "display_name": "Python 3",
      "name": "python3"
    },
    "language_info": {
      "codemirror_mode": {
        "name": "ipython",
        "version": 3
      },
      "file_extension": ".py",
      "mimetype": "text/x-python",
      "name": "python",
      "nbconvert_exporter": "python",
      "pygments_lexer": "ipython3",
      "version": "3.9.13"
    }
  },
  "nbformat": 4,
  "nbformat_minor": 0
}
