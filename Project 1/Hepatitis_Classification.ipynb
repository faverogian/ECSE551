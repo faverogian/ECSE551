{
  "nbformat": 4,
  "nbformat_minor": 0,
  "metadata": {
    "colab": {
      "provenance": []
    },
    "kernelspec": {
      "name": "python3",
      "display_name": "Python 3"
    },
    "language_info": {
      "name": "python"
    }
  },
  "cells": [
    {
      "cell_type": "code",
      "execution_count": null,
      "metadata": {
        "id": "GNpmX7ZZZsms",
        "outputId": "c53d0fab-835e-4829-fc7d-c03912ccf2c7",
        "colab": {
          "base_uri": "https://localhost:8080/"
        }
      },
      "outputs": [
        {
          "output_type": "stream",
          "name": "stdout",
          "text": [
            "Drive already mounted at /content/drive; to attempt to forcibly remount, call drive.mount(\"/content/drive\", force_remount=True).\n"
          ]
        }
      ],
      "source": [
        "# First, mount your drive\n",
        "from google.colab import drive\n",
        "drive.mount('/content/drive')"
      ]
    },
    {
      "cell_type": "code",
      "source": [
        "# Navigate to this directory using commands like %pwd and %cd\n",
        "%cd drive/MyDrive/ECSE551/Project1/Project1.1/"
      ],
      "metadata": {
        "id": "LsrJv5pHZxwe",
        "outputId": "ac7af582-b34e-4a6d-b5d1-94a68bc993b8",
        "colab": {
          "base_uri": "https://localhost:8080/"
        }
      },
      "execution_count": null,
      "outputs": [
        {
          "output_type": "stream",
          "name": "stdout",
          "text": [
            "/content/drive/.shortcut-targets-by-id/1D79RsbDYba-CaF5Wcir7xE6SGxQ7_TQO/Project1/Project1.1\n"
          ]
        }
      ]
    },
    {
      "cell_type": "markdown",
      "metadata": {
        "id": "_-_oKQHfHZ55"
      },
      "source": [
        "We begin by importing three classes made from scratch: LogisticRegression, KFoldSplitSet, and NestedCV. In addition to these, numpy, pandas, and itertools is also imported.\n",
        "\n"
      ]
    },
    {
      "cell_type": "code",
      "execution_count": null,
      "metadata": {
        "id": "PyrpvoRhHELa"
      },
      "outputs": [],
      "source": [
        "from LogisticRegression import LogisticRegression\n",
        "from SplitSet import SplitSet\n",
        "from NestedCrossValidation import NestedCV, Accu_eval\n",
        "import pandas as pd\n",
        "import numpy as np\n",
        "import itertools"
      ]
    },
    {
      "cell_type": "markdown",
      "metadata": {
        "id": "YtyiiQBeHmdM"
      },
      "source": [
        "First, the hepatitis dataset must be processed to appropriately train the logistic classifier. A header row is added and a class vector is constructed from the last column of the dataset."
      ]
    },
    {
      "cell_type": "code",
      "execution_count": null,
      "metadata": {
        "id": "o3sd2LUVHvVZ"
      },
      "outputs": [],
      "source": [
        "# Load the data\n",
        "hepatitis_set = pd.read_csv('Hepatits.csv')\n",
        "hepatitis_headers = ['Ascites', 'Varices', 'Bilirubin', 'Alk Phosphate',\n",
        "                     'Sgot', 'Albumin', 'Protime', 'Histology', 'Class']\n",
        "\n",
        "hepatitis_set.columns = hepatitis_headers\n",
        "\n",
        "# Get the labels from last column\n",
        "X = hepatitis_set.iloc[:, :-1]\n",
        "Y = hepatitis_set.iloc[:, -1]\n",
        "\n",
        "# Normalize the data per column\n",
        "X = (X - X.mean()) / X.std()"
      ]
    },
    {
      "cell_type": "markdown",
      "metadata": {
        "id": "aGgvFcCxIG4b"
      },
      "source": [
        "An automated process was designed to choose candidate models that had the highest accuracy based on a nested cross validation algorithm. A hyperparameter grid was constructed to identify the best learning rate, regularization, and norm penalty."
      ]
    },
    {
      "cell_type": "code",
      "execution_count": null,
      "metadata": {
        "id": "8w59RZu0IxbL"
      },
      "outputs": [],
      "source": [
        "\n",
        "hyperparameters = {\n",
        "    'lr': [0.0001, 0.001, 0.03],\n",
        "    'reg': ['l1', 'l2'],\n",
        "    'norm_penalty': [0, 0.3, 0.8, 1]\n",
        "}\n",
        "hyper_perms = list(itertools.product(*hyperparameters.values()))\n",
        "\n",
        "# Remove l2 with 0 norm penalty since it's the same as l1 with 0 norm penalty (no regularization)\n",
        "hyper_perms = [perm for perm in hyper_perms if [perm[1], perm[2]] != ['l2', 0]]"
      ]
    },
    {
      "cell_type": "markdown",
      "metadata": {
        "id": "cKdRP21GI4Rm"
      },
      "source": [
        "A nested cross validation is performed with 10 outer folds to procure candidate models that perform the best in the grid search validation process."
      ]
    },
    {
      "cell_type": "code",
      "execution_count": null,
      "metadata": {
        "id": "BCZXFYitJ0L9",
        "colab": {
          "base_uri": "https://localhost:8080/"
        },
        "outputId": "62560efd-3a8f-468c-ef54-a6c6e95564f4"
      },
      "outputs": [
        {
          "output_type": "stream",
          "name": "stdout",
          "text": [
            "Top 5 best hyperparameter permutations:\n",
            "1. Accuracy: 74.41%, Hyperparameters: (0.0001, 'l2', 0.3)\n",
            "2. Accuracy: 74.71%, Hyperparameters: (0.0001, 'l2', 1)\n",
            "3. Accuracy: 75.00%, Hyperparameters: (0.0001, 'l1', 0.8)\n",
            "4. Accuracy: 75.00%, Hyperparameters: (0.0001, 'l1', 1)\n",
            "5. Accuracy: 75.29%, Hyperparameters: (0.0001, 'l1', 0.3)\n"
          ]
        }
      ],
      "source": [
        "# Perform k-fold cross validation on each hyperparameter permutation to find the best one\n",
        "nested_cv = NestedCV(outer_folds=10)\n",
        "\n",
        "# Keep track of the top 5 best hyperparameter permutations\n",
        "best_accuracy = 0\n",
        "best_perm = None\n",
        "top_5 = []\n",
        "\n",
        "for perm in hyper_perms:\n",
        "    model = LogisticRegression(perm[0], perm[1], perm[2], early_stopping=True)\n",
        "    accuracy = nested_cv.k_fold_cross_validation(model, X, Y)\n",
        "\n",
        "    # Update the top 5 best hyperparameter permutations\n",
        "    if len(top_5) < 5:\n",
        "        top_5.append((accuracy, perm))\n",
        "    elif accuracy > top_5[0][0]:\n",
        "        top_5[0] = (accuracy, perm)\n",
        "        top_5.sort(key=lambda x: x[0])\n",
        "\n",
        "    if accuracy > best_accuracy:\n",
        "        best_accuracy = accuracy\n",
        "\n",
        "# Print the top 5 best hyperparameter permutations\n",
        "print(\"Top 5 best hyperparameter permutations:\")\n",
        "top_5.sort(key=lambda x: x[0])\n",
        "for i, perm in enumerate(top_5):\n",
        "    print(\"{}. Accuracy: {:.2f}%, Hyperparameters: {}\".format(i+1, perm[0]*100, perm[1]))\n",
        "\n",
        "# Get the best model\n",
        "best_model = LogisticRegression(top_5[-1][1][0], top_5[-1][1][1], top_5[-1][1][2], early_stopping=True)"
      ]
    },
    {
      "cell_type": "markdown",
      "source": [
        "The best performing models have a learning rate of 0.0001 with 2000 max iterations. In the case of this hepatitis dataset, it does not appear as though a certain type of regularization increases the performance of the model very much as L1 and L2 both can achieve a similar accuracy."
      ],
      "metadata": {
        "id": "S6khgZOrbOWs"
      }
    },
    {
      "cell_type": "markdown",
      "metadata": {
        "id": "c-j91WDojYbU"
      },
      "source": [
        "We can now do some analysis with the best model selected. First let's see how it used regularization to place less importance on some features."
      ]
    },
    {
      "cell_type": "code",
      "execution_count": null,
      "metadata": {
        "id": "bCbJfm6Pj19S",
        "colab": {
          "base_uri": "https://localhost:8080/"
        },
        "outputId": "a6cbce6b-0830-4c32-9a91-44816cc51adb"
      },
      "outputs": [
        {
          "output_type": "stream",
          "name": "stdout",
          "text": [
            "\n",
            "Weights per feature:\n",
            "         Feature    Weight\n",
            "2        Varices  1.155868\n",
            "1        Ascites  0.512123\n",
            "6        Albumin  0.423382\n",
            "5           Sgot  0.391785\n",
            "8      Histology  0.346223\n",
            "7        Protime  0.262433\n",
            "3      Bilirubin  0.197524\n",
            "0      Intercept  0.133795\n",
            "4  Alk Phosphate  0.112711\n"
          ]
        }
      ],
      "source": [
        "# Generate splits\n",
        "splits = SplitSet()\n",
        "X_train, X_test, Y_train, Y_test = splits.split(X, Y, test_size=0.2)\n",
        "x_train, x_val, y_train, y_val = splits.split(X_train, Y_train, test_size=0.2)\n",
        "\n",
        "# Train the best model\n",
        "best_model.fit(x_train, y_train, x_val, y_val)\n",
        "\n",
        "# Check the weights per feature\n",
        "headers = ['Intercept', 'Ascites', 'Varices', 'Bilirubin', 'Alk Phosphate',\n",
        "            'Sgot', 'Albumin', 'Protime', 'Histology']\n",
        "weights = best_model.w\n",
        "data = {'Feature': headers, 'Weight': weights}\n",
        "weights_df = pd.DataFrame(data)\n",
        "\n",
        "# Order the weights by absolute value\n",
        "weights_df['Weight'] = weights_df['Weight'].abs()\n",
        "weights_df.sort_values(by=['Weight'], inplace=True, ascending=False)\n",
        "print(\"\\nWeights per feature:\")\n",
        "print(weights_df)"
      ]
    },
    {
      "cell_type": "markdown",
      "source": [
        "It appears as though some features are more important than others. For example, the weights on \"Alk Phosphate\", \"Protime\", and \"Bilirubin\" seem to often be less important than the other features. We can see what happens if we remove these features entirely."
      ],
      "metadata": {
        "id": "jbIj2v5BbYss"
      }
    },
    {
      "cell_type": "code",
      "source": [
        "# Test the best model with subset of features\n",
        "X_reduced = X.drop(columns=['Bilirubin', 'Alk Phosphate', 'Protime'])\n",
        "accuracy_reduced = nested_cv.k_fold_cross_validation(best_model, X_reduced, Y)\n",
        "print(\"Accuracy with reduced features: \", accuracy_reduced)\n",
        "print(\"Difference in accuracy: \", best_accuracy - accuracy_reduced)"
      ],
      "metadata": {
        "id": "RGXdTBflcMHG",
        "colab": {
          "base_uri": "https://localhost:8080/"
        },
        "outputId": "b203b05c-0341-474a-8c78-c3e16099bae6"
      },
      "execution_count": null,
      "outputs": [
        {
          "output_type": "stream",
          "name": "stdout",
          "text": [
            "Accuracy with reduced features:  0.7323529411764707\n",
            "Difference in accuracy:  0.020588235294117574\n"
          ]
        }
      ]
    },
    {
      "cell_type": "markdown",
      "source": [
        "When we remove these features, the accuracy does not change much (2.1% drop). Hence, while not particularly useful, these features still add some value to the accuracy of the model."
      ],
      "metadata": {
        "id": "bf1MS8YrcbZA"
      }
    },
    {
      "cell_type": "markdown",
      "source": [
        "We can also see if adding new features increases the performance. Here we will try concatenating the squares of each feature."
      ],
      "metadata": {
        "id": "ZgEUVJCQ5vKt"
      }
    },
    {
      "cell_type": "code",
      "source": [
        "# Create new features that are squares of the old features and add them to the dataset\n",
        "X_squared = X.apply(np.square)\n",
        "X_enhanced = pd.concat([X, X_squared], axis=1)\n",
        "accuracy_enhanced = nested_cv.k_fold_cross_validation(best_model, X_enhanced, Y)\n",
        "print(\"Accuracy with enhanced features: \", accuracy_enhanced)\n",
        "print(\"Difference in accuracy: \", best_accuracy - accuracy_enhanced)"
      ],
      "metadata": {
        "id": "-WirGzLQ53Cf",
        "colab": {
          "base_uri": "https://localhost:8080/"
        },
        "outputId": "9c3d63fb-c8d4-4140-d16e-619435a7c565"
      },
      "execution_count": null,
      "outputs": [
        {
          "output_type": "stream",
          "name": "stdout",
          "text": [
            "Accuracy with enhanced features:  0.7205882352941176\n",
            "Difference in accuracy:  0.032352941176470584\n"
          ]
        }
      ]
    },
    {
      "cell_type": "markdown",
      "source": [
        "In this case, appending the extra features actually decreased performance by 3.23%. Hence, for this dataset, the extra features hurt the model."
      ],
      "metadata": {
        "id": "IXD296QW2V2o"
      }
    },
    {
      "cell_type": "markdown",
      "metadata": {
        "id": "4HflfCCfQmFy"
      },
      "source": [
        "Early stopping is enforced by observing the performance of the model on a validation set during training. We can enforce this by saying that if the accuracy of prediction does not increase by more than 0.001 over 250 consecutive iterations, the model stops training. Let's see how this affects performance on a held out test set."
      ]
    },
    {
      "cell_type": "code",
      "execution_count": null,
      "metadata": {
        "id": "WypExtrNQu9f",
        "colab": {
          "base_uri": "https://localhost:8080/",
          "height": 996
        },
        "outputId": "03e648ac-879f-4dd1-839b-d0348c647590"
      },
      "outputs": [
        {
          "output_type": "stream",
          "name": "stdout",
          "text": [
            "Test set accuracy with no stopping (2000 iterations): 0.7536231884057971\n",
            "Time elapsed: 0.33824610710144043\n"
          ]
        },
        {
          "output_type": "display_data",
          "data": {
            "text/plain": [
              "<Figure size 640x480 with 1 Axes>"
            ],
            "image/png": "[encoded data removed]"
          },
          "metadata": {}
        },
        {
          "output_type": "stream",
          "name": "stdout",
          "text": [
            "Test set accuracy with stopping after 800 iterations: 0.782608695652174\n",
            "Time elapsed: 0.1436324119567871\n"
          ]
        },
        {
          "output_type": "display_data",
          "data": {
            "text/plain": [
              "<Figure size 640x480 with 1 Axes>"
            ],
            "image/png": "[encoded data removed]"
          },
          "metadata": {}
        }
      ],
      "source": [
        "import matplotlib.pyplot as plt\n",
        "import time\n",
        "\n",
        "# Evaluate the best model with no early stopping\n",
        "timer = time.time()\n",
        "best_model.early_stopping = False\n",
        "iterations, val_accuracies, train_accuracies = best_model.fit(x_train, y_train, x_val, y_val)\n",
        "Y_pred = best_model.predict(X_test)\n",
        "accuracy = np.mean(Y_pred == Y_test)\n",
        "print(\"Test set accuracy with no stopping (2000 iterations):\", accuracy)\n",
        "print(\"Time elapsed:\", time.time() - timer)\n",
        "\n",
        "# Make a plot of the accuracy vs iterations\n",
        "plt.plot(iterations, val_accuracies, label='Val Accuracy')\n",
        "plt.plot(iterations, train_accuracies, label='Train Accuracy')\n",
        "plt.xlabel(\"Iterations\")\n",
        "plt.ylabel(\"Accuracy\")\n",
        "plt.title(\"Accuracy with No Early Stopping\")\n",
        "plt.legend()\n",
        "plt.show()\n",
        "\n",
        "# Evaluate model with early stopping\n",
        "timer = time.time()\n",
        "best_model.early_stopping = True\n",
        "iterations, val_accuracies, train_accuracies = best_model.fit(x_train, y_train, x_val, y_val)\n",
        "Y_pred = best_model.predict(X_test)\n",
        "accuracy = np.mean(Y_pred == Y_test)\n",
        "print(f\"Test set accuracy with stopping after {iterations[-1]} iterations:\", accuracy)\n",
        "print(\"Time elapsed:\", time.time() - timer)\n",
        "\n",
        "# Make a plot of the accuracy vs iterations\n",
        "plt.plot(iterations, val_accuracies, label='Val Accuracy')\n",
        "plt.plot(iterations, train_accuracies, label='Train Accuracy')\n",
        "plt.plot()\n",
        "plt.xlabel(\"Iterations\")\n",
        "plt.ylabel(\"Accuracy\")\n",
        "plt.title(\"Accuracy with Early Stopping\")\n",
        "plt.legend()\n",
        "plt.show()"
      ]
    },
    {
      "cell_type": "markdown",
      "source": [
        "Stopping training early appears to have some computational savings while helping performance by nearly 3% on the held out test set. Stopping training early appears to have some computational savings while not sacrificing very much performance. We can see that the performance on the validation set is preserved when we stop early. With a looser stopping criteria, less performance will be sacrificed on the test set."
      ],
      "metadata": {
        "id": "l67A1D9dN2O9"
      }
    },
    {
      "cell_type": "markdown",
      "metadata": {
        "id": "K41iJyXcJ0MA"
      },
      "source": [
        "Finally, we can compare the best model found against some simple benchmarks."
      ]
    },
    {
      "cell_type": "code",
      "execution_count": null,
      "metadata": {
        "id": "WUCtkgYzJ0MA",
        "colab": {
          "base_uri": "https://localhost:8080/"
        },
        "outputId": "da24a86f-a4d7-4490-a00a-6d8b40c2617c"
      },
      "outputs": [
        {
          "output_type": "stream",
          "name": "stdout",
          "text": [
            "Random classifier accuracy: 0.4927536231884058\n",
            "Majority classifier accuracy: 0.4927536231884058\n",
            "Minority classifier accuracy: 0.5072463768115942\n",
            "\n",
            "Models found by nested cross validation:\n",
            "1. Accuracy: 74.41%, Hyperparameters: (0.0001, 'l2', 0.3)\n",
            "2. Accuracy: 74.71%, Hyperparameters: (0.0001, 'l2', 1)\n",
            "3. Accuracy: 75.00%, Hyperparameters: (0.0001, 'l1', 0.8)\n",
            "4. Accuracy: 75.00%, Hyperparameters: (0.0001, 'l1', 1)\n",
            "5. Accuracy: 75.29%, Hyperparameters: (0.0001, 'l1', 0.3)\n"
          ]
        }
      ],
      "source": [
        "# Random classifier that predicts 50/50\n",
        "Y_pred_random = np.random.randint(0, 2, len(Y_test))\n",
        "accuracy = np.mean(Y_pred_random == Y_test)\n",
        "print(\"Random classifier accuracy:\", accuracy)\n",
        "\n",
        "# Majority classifier that predicts all 1's\n",
        "Y_pred_majority = np.ones(len(Y_test))\n",
        "accuracy = np.mean(Y_pred_majority == Y_test)\n",
        "print(\"Majority classifier accuracy:\", accuracy)\n",
        "\n",
        "# Minority classifier that predicts all 0's\n",
        "Y_pred_minority = np.zeros(len(Y_test))\n",
        "accuracy = np.mean(Y_pred_minority == Y_test)\n",
        "print(\"Minority classifier accuracy:\", accuracy)\n",
        "\n",
        "# Print the models found by nested cross validation\n",
        "print(\"\\nModels found by nested cross validation:\")\n",
        "for i, model in enumerate(top_5):\n",
        "    print(\"{}. Accuracy: {:.2f}%, Hyperparameters: {}\".format(i+1, model[0]*100, model[1]))"
      ]
    },
    {
      "cell_type": "markdown",
      "source": [
        "The models found via the nested cross fold validation all are superior to random, minority, and majority baselines."
      ],
      "metadata": {
        "id": "d57PNEJNcpHF"
      }
    }
  ]
}